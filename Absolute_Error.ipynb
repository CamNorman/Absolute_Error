{
  "nbformat": 4,
  "nbformat_minor": 0,
  "metadata": {
    "colab": {
      "provenance": []
    },
    "kernelspec": {
      "name": "python3",
      "display_name": "Python 3"
    }
  },
  "cells": [
    {
      "cell_type": "markdown",
      "metadata": {
        "id": "CPzo2e6aFrjx"
      },
      "source": [
        "# BloomTech Data Science - Unit 2 Sprint 1 Module 1"
      ]
    },
    {
      "cell_type": "code",
      "metadata": {
        "id": "XdKtS6Gi5jul"
      },
      "source": [
        "import pandas as pd\n",
        "import matplotlib.pyplot as plt\n",
        "import numpy as np\n",
        "from sklearn.metrics import mean_absolute_error"
      ],
      "execution_count": null,
      "outputs": []
    },
    {
      "cell_type": "markdown",
      "metadata": {
        "id": "2EVx8r5HLa6f"
      },
      "source": [
        "# I. Wrangle Data"
      ]
    },
    {
      "cell_type": "code",
      "source": [
        "import sys\n",
        "\n",
        "# If you're on Colab:\n",
        "if 'google.colab' in sys.modules:\n",
        "    DATA_PATH = 'https://raw.githubusercontent.com/LambdaSchool/DS-Unit-2-Applied-Modeling/master/data/'\n",
        "\n",
        "# If you're working locally:\n",
        "else:\n",
        "    DATA_PATH = '../data/'"
      ],
      "metadata": {
        "id": "8ZSjX3MEsTaP"
      },
      "execution_count": null,
      "outputs": []
    },
    {
      "cell_type": "code",
      "metadata": {
        "id": "syxaPzCWqfTY"
      },
      "source": [
        "df = pd.read_csv(DATA_PATH + 'condos/tribeca.csv')"
      ],
      "execution_count": null,
      "outputs": []
    },
    {
      "cell_type": "code",
      "source": [
        "df.describe()"
      ],
      "metadata": {
        "id": "yPtFptIgtKlp"
      },
      "execution_count": null,
      "outputs": []
    },
    {
      "cell_type": "code",
      "source": [
        "df.drop(columns = ['NEIGHBORHOOD', 'BUILDING_CLASS_CATEGORY'], inplace = True)"
      ],
      "metadata": {
        "id": "RvUCrqSXu8Xj"
      },
      "execution_count": null,
      "outputs": []
    },
    {
      "cell_type": "code",
      "source": [
        "def wrangle(filepath):\n",
        "  df = pd.read_csv(filepath,\n",
        "                   parse_dates=['SALE_DATE'],\n",
        "                   index_col= ['SALE_DATE'],\n",
        "                   na_values=[0.0])\n",
        "  #drop constant columns\n",
        "  df.drop(columns = ['NEIGHBORHOOD', 'BUILDING_CLASS_CATEGORY'], inplace = True)\n",
        "\n",
        "  #drop high cardinality columns aka the columns that are different in every row\n",
        "  df.drop(columns = ['ADDRESS', 'APARTMENT_NUMBER'], inplace = True)\n",
        "\n",
        "  return df\n",
        "\n",
        "df = wrangle(DATA_PATH + 'condos/tribeca.csv')"
      ],
      "metadata": {
        "id": "VX-nPn5Ht6Lf"
      },
      "execution_count": null,
      "outputs": []
    },
    {
      "cell_type": "code",
      "source": [
        "df.head()"
      ],
      "metadata": {
        "colab": {
          "base_uri": "https://localhost:8080/",
          "height": 238
        },
        "id": "mrhbBtQ_yD6k",
        "outputId": "a0d0c89b-4c7c-411e-e95a-a91d5db60413"
      },
      "execution_count": null,
      "outputs": [
        {
          "output_type": "execute_result",
          "data": {
            "text/plain": [
              "            ZIP_CODE  GROSS_SQUARE_FEET  YEAR_BUILT  SALE_PRICE\n",
              "SALE_DATE                                                      \n",
              "2019-01-03   10013.0             1840.0      1909.0     2800000\n",
              "2019-01-07   10004.0             1759.0         NaN     2650000\n",
              "2019-01-09   10004.0             1190.0      2005.0     1005000\n",
              "2019-01-10       NaN             1088.0      2006.0     1678000\n",
              "2019-01-11   10280.0              873.0         NaN     1380000"
            ],
            "text/html": [
              "\n",
              "  <div id=\"df-3f14148c-a0d9-45d1-8cd8-3355c58b7012\">\n",
              "    <div class=\"colab-df-container\">\n",
              "      <div>\n",
              "<style scoped>\n",
              "    .dataframe tbody tr th:only-of-type {\n",
              "        vertical-align: middle;\n",
              "    }\n",
              "\n",
              "    .dataframe tbody tr th {\n",
              "        vertical-align: top;\n",
              "    }\n",
              "\n",
              "    .dataframe thead th {\n",
              "        text-align: right;\n",
              "    }\n",
              "</style>\n",
              "<table border=\"1\" class=\"dataframe\">\n",
              "  <thead>\n",
              "    <tr style=\"text-align: right;\">\n",
              "      <th></th>\n",
              "      <th>ZIP_CODE</th>\n",
              "      <th>GROSS_SQUARE_FEET</th>\n",
              "      <th>YEAR_BUILT</th>\n",
              "      <th>SALE_PRICE</th>\n",
              "    </tr>\n",
              "    <tr>\n",
              "      <th>SALE_DATE</th>\n",
              "      <th></th>\n",
              "      <th></th>\n",
              "      <th></th>\n",
              "      <th></th>\n",
              "    </tr>\n",
              "  </thead>\n",
              "  <tbody>\n",
              "    <tr>\n",
              "      <th>2019-01-03</th>\n",
              "      <td>10013.0</td>\n",
              "      <td>1840.0</td>\n",
              "      <td>1909.0</td>\n",
              "      <td>2800000</td>\n",
              "    </tr>\n",
              "    <tr>\n",
              "      <th>2019-01-07</th>\n",
              "      <td>10004.0</td>\n",
              "      <td>1759.0</td>\n",
              "      <td>NaN</td>\n",
              "      <td>2650000</td>\n",
              "    </tr>\n",
              "    <tr>\n",
              "      <th>2019-01-09</th>\n",
              "      <td>10004.0</td>\n",
              "      <td>1190.0</td>\n",
              "      <td>2005.0</td>\n",
              "      <td>1005000</td>\n",
              "    </tr>\n",
              "    <tr>\n",
              "      <th>2019-01-10</th>\n",
              "      <td>NaN</td>\n",
              "      <td>1088.0</td>\n",
              "      <td>2006.0</td>\n",
              "      <td>1678000</td>\n",
              "    </tr>\n",
              "    <tr>\n",
              "      <th>2019-01-11</th>\n",
              "      <td>10280.0</td>\n",
              "      <td>873.0</td>\n",
              "      <td>NaN</td>\n",
              "      <td>1380000</td>\n",
              "    </tr>\n",
              "  </tbody>\n",
              "</table>\n",
              "</div>\n",
              "      <button class=\"colab-df-convert\" onclick=\"convertToInteractive('df-3f14148c-a0d9-45d1-8cd8-3355c58b7012')\"\n",
              "              title=\"Convert this dataframe to an interactive table.\"\n",
              "              style=\"display:none;\">\n",
              "        \n",
              "  <svg xmlns=\"http://www.w3.org/2000/svg\" height=\"24px\"viewBox=\"0 0 24 24\"\n",
              "       width=\"24px\">\n",
              "    <path d=\"M0 0h24v24H0V0z\" fill=\"none\"/>\n",
              "    <path d=\"M18.56 5.44l.94 2.06.94-2.06 2.06-.94-2.06-.94-.94-2.06-.94 2.06-2.06.94zm-11 1L8.5 8.5l.94-2.06 2.06-.94-2.06-.94L8.5 2.5l-.94 2.06-2.06.94zm10 10l.94 2.06.94-2.06 2.06-.94-2.06-.94-.94-2.06-.94 2.06-2.06.94z\"/><path d=\"M17.41 7.96l-1.37-1.37c-.4-.4-.92-.59-1.43-.59-.52 0-1.04.2-1.43.59L10.3 9.45l-7.72 7.72c-.78.78-.78 2.05 0 2.83L4 21.41c.39.39.9.59 1.41.59.51 0 1.02-.2 1.41-.59l7.78-7.78 2.81-2.81c.8-.78.8-2.07 0-2.86zM5.41 20L4 18.59l7.72-7.72 1.47 1.35L5.41 20z\"/>\n",
              "  </svg>\n",
              "      </button>\n",
              "      \n",
              "  <style>\n",
              "    .colab-df-container {\n",
              "      display:flex;\n",
              "      flex-wrap:wrap;\n",
              "      gap: 12px;\n",
              "    }\n",
              "\n",
              "    .colab-df-convert {\n",
              "      background-color: #E8F0FE;\n",
              "      border: none;\n",
              "      border-radius: 50%;\n",
              "      cursor: pointer;\n",
              "      display: none;\n",
              "      fill: #1967D2;\n",
              "      height: 32px;\n",
              "      padding: 0 0 0 0;\n",
              "      width: 32px;\n",
              "    }\n",
              "\n",
              "    .colab-df-convert:hover {\n",
              "      background-color: #E2EBFA;\n",
              "      box-shadow: 0px 1px 2px rgba(60, 64, 67, 0.3), 0px 1px 3px 1px rgba(60, 64, 67, 0.15);\n",
              "      fill: #174EA6;\n",
              "    }\n",
              "\n",
              "    [theme=dark] .colab-df-convert {\n",
              "      background-color: #3B4455;\n",
              "      fill: #D2E3FC;\n",
              "    }\n",
              "\n",
              "    [theme=dark] .colab-df-convert:hover {\n",
              "      background-color: #434B5C;\n",
              "      box-shadow: 0px 1px 3px 1px rgba(0, 0, 0, 0.15);\n",
              "      filter: drop-shadow(0px 1px 2px rgba(0, 0, 0, 0.3));\n",
              "      fill: #FFFFFF;\n",
              "    }\n",
              "  </style>\n",
              "\n",
              "      <script>\n",
              "        const buttonEl =\n",
              "          document.querySelector('#df-3f14148c-a0d9-45d1-8cd8-3355c58b7012 button.colab-df-convert');\n",
              "        buttonEl.style.display =\n",
              "          google.colab.kernel.accessAllowed ? 'block' : 'none';\n",
              "\n",
              "        async function convertToInteractive(key) {\n",
              "          const element = document.querySelector('#df-3f14148c-a0d9-45d1-8cd8-3355c58b7012');\n",
              "          const dataTable =\n",
              "            await google.colab.kernel.invokeFunction('convertToInteractive',\n",
              "                                                     [key], {});\n",
              "          if (!dataTable) return;\n",
              "\n",
              "          const docLinkHtml = 'Like what you see? Visit the ' +\n",
              "            '<a target=\"_blank\" href=https://colab.research.google.com/notebooks/data_table.ipynb>data table notebook</a>'\n",
              "            + ' to learn more about interactive tables.';\n",
              "          element.innerHTML = '';\n",
              "          dataTable['output_type'] = 'display_data';\n",
              "          await google.colab.output.renderOutput(dataTable, element);\n",
              "          const docLink = document.createElement('div');\n",
              "          docLink.innerHTML = docLinkHtml;\n",
              "          element.appendChild(docLink);\n",
              "        }\n",
              "      </script>\n",
              "    </div>\n",
              "  </div>\n",
              "  "
            ]
          },
          "metadata": {},
          "execution_count": 6
        }
      ]
    },
    {
      "cell_type": "markdown",
      "metadata": {
        "id": "GgRcyfQMXhzJ"
      },
      "source": [
        "# II. Split Data\n",
        "\n",
        "Split our dataset into a **feature matrix `X`** and a **target vector `y`**."
      ]
    },
    {
      "cell_type": "code",
      "metadata": {
        "id": "wTYqSJ8chRGa"
      },
      "source": [
        "X = df[['GROSS_SQUARE_FEET']] #2D\n",
        "y = df['SALE_PRICE'] #1D"
      ],
      "execution_count": null,
      "outputs": []
    },
    {
      "cell_type": "code",
      "metadata": {
        "id": "1Ek2mN04hTmT",
        "colab": {
          "base_uri": "https://localhost:8080/"
        },
        "outputId": "3edd7dc5-7bed-4ff0-a968-636dde37bad2"
      },
      "source": [
        "X.shape,y.shape"
      ],
      "execution_count": null,
      "outputs": [
        {
          "output_type": "execute_result",
          "data": {
            "text/plain": [
              "((90, 1), (90,))"
            ]
          },
          "metadata": {},
          "execution_count": 8
        }
      ]
    },
    {
      "cell_type": "code",
      "metadata": {
        "id": "NiWjkzmiBU3I",
        "colab": {
          "base_uri": "https://localhost:8080/"
        },
        "outputId": "2024b421-8ba6-4591-dd91-c787e42479fd"
      },
      "source": [
        "X.head(), y.head()"
      ],
      "execution_count": null,
      "outputs": [
        {
          "output_type": "execute_result",
          "data": {
            "text/plain": [
              "(            GROSS_SQUARE_FEET\n",
              " SALE_DATE                    \n",
              " 2019-01-03             1840.0\n",
              " 2019-01-07             1759.0\n",
              " 2019-01-09             1190.0\n",
              " 2019-01-10             1088.0\n",
              " 2019-01-11              873.0,\n",
              " SALE_DATE\n",
              " 2019-01-03    2800000\n",
              " 2019-01-07    2650000\n",
              " 2019-01-09    1005000\n",
              " 2019-01-10    1678000\n",
              " 2019-01-11    1380000\n",
              " Name: SALE_PRICE, dtype: int64)"
            ]
          },
          "metadata": {},
          "execution_count": 9
        }
      ]
    },
    {
      "cell_type": "markdown",
      "metadata": {
        "id": "CuwsiXRlYsjG"
      },
      "source": [
        "# III. Establish Baseline\n",
        "\n",
        "If you had a *naïve model* that could only predict one value, how well would you model perform?"
      ]
    },
    {
      "cell_type": "code",
      "source": [
        "y_baseline_pred = [y.mean()] * len(y)\n"
      ],
      "metadata": {
        "id": "fki47Q97zwmc"
      },
      "execution_count": null,
      "outputs": []
    },
    {
      "cell_type": "code",
      "source": [
        "print('BASELINE MAE',mean_absolute_error(y,y_baseline_pred))"
      ],
      "metadata": {
        "colab": {
          "base_uri": "https://localhost:8080/"
        },
        "id": "tEfsIh6reFNU",
        "outputId": "4cffcf44-8c60-42dc-9d50-dab4b83d70dc"
      },
      "execution_count": null,
      "outputs": [
        {
          "output_type": "stream",
          "name": "stdout",
          "text": [
            "BASELINE MAE 2783380.1977777784\n"
          ]
        }
      ]
    },
    {
      "cell_type": "code",
      "source": [
        "plt.figure(figsize = (15,10))\n",
        "plt.scatter(X,y)\n",
        "plt.plot(X,y_baseline_pred, label = 'Baseline', color = 'grey')\n",
        "plt.xlabel('Gross Sq Ft')\n",
        "plt.ylabel('Sale Price')\n",
        "plt.legend();"
      ],
      "metadata": {
        "colab": {
          "base_uri": "https://localhost:8080/",
          "height": 865
        },
        "id": "fwKVTgmKz6-D",
        "outputId": "0c79a8d4-bb64-4008-cac7-b51c2b00ac1e"
      },
      "execution_count": null,
      "outputs": [
        {
          "output_type": "display_data",
          "data": {
            "text/plain": [
              "<Figure size 1500x1000 with 1 Axes>"
            ],
            "image/png": "[encoded data removed]"
          },
          "metadata": {}
        }
      ]
    },
    {
      "cell_type": "markdown",
      "metadata": {
        "id": "3bFjzSkUdl21"
      },
      "source": [
        "# IV. Build Model"
      ]
    },
    {
      "cell_type": "code",
      "metadata": {
        "id": "teYsy_7fhWiG"
      },
      "source": [
        "# step one: import predictor class\n",
        "from sklearn.linear_model import LinearRegression\n",
        "\n",
        "# step two: instantiate my predictions\n",
        "model_lr = LinearRegression()\n",
        "\n",
        "# step three: fit my model\n",
        "model_lr.fit(X,y)\n",
        "#step four: make predictions\n",
        "y_pred_lr = model_lr.predict(X)"
      ],
      "execution_count": null,
      "outputs": []
    },
    {
      "cell_type": "code",
      "source": [],
      "metadata": {
        "id": "IlxB_QxRiRsv"
      },
      "execution_count": null,
      "outputs": []
    },
    {
      "cell_type": "markdown",
      "metadata": {
        "id": "Lo3CypnUfIwc"
      },
      "source": [
        "# V. Check Metrics"
      ]
    },
    {
      "cell_type": "code",
      "metadata": {
        "id": "l1WsFoaUJ_Vx",
        "colab": {
          "base_uri": "https://localhost:8080/"
        },
        "outputId": "2d71ff69-2071-45e4-a224-83790b7f99ea"
      },
      "source": [
        "\n",
        "print('Linear Regression MAE',mean_absolute_error(y,y_pred_lr) )"
      ],
      "execution_count": null,
      "outputs": [
        {
          "output_type": "stream",
          "name": "stdout",
          "text": [
            "Linear Regression MAE 1176817.9930150746\n"
          ]
        }
      ]
    },
    {
      "cell_type": "markdown",
      "metadata": {
        "id": "jGYUL1mufdS-"
      },
      "source": [
        "# VI. Communicate Results\n",
        "\n",
        "Plot model"
      ]
    },
    {
      "cell_type": "code",
      "metadata": {
        "id": "y6RUbvFdB3jl",
        "colab": {
          "base_uri": "https://localhost:8080/",
          "height": 865
        },
        "outputId": "436ab7e2-b2e4-413a-dab3-2915626193ad"
      },
      "source": [
        "plt.figure(figsize = (15,10))\n",
        "plt.scatter(X,y)\n",
        "plt.plot(X,y_baseline_pred, label = 'Baseline', color = 'grey')\n",
        "plt.plot(X,y_pred_lr, label = 'Linear Regression', color = 'blue')\n",
        "plt.xlabel('Gross Sq Ft')\n",
        "plt.ylabel('Sale Price')\n",
        "plt.legend();"
      ],
      "execution_count": null,
      "outputs": [
        {
          "output_type": "display_data",
          "data": {
            "text/plain": [
              "<Figure size 1500x1000 with 1 Axes>"
            ],
            "image/png": "[encoded data removed]"
          },
          "metadata": {}
        }
      ]
    },
    {
      "cell_type": "markdown",
      "metadata": {
        "id": "qsDBGc49K7Uh"
      },
      "source": [
        "What are our beta coefficients?"
      ]
    },
    {
      "cell_type": "code",
      "metadata": {
        "id": "rgoaqGY_KjnH",
        "colab": {
          "base_uri": "https://localhost:8080/"
        },
        "outputId": "8e42c99c-95eb-4ef7-d195-44ca16ed65be"
      },
      "source": [
        "intercept = round(model_lr.intercept_)\n",
        "intercept"
      ],
      "execution_count": null,
      "outputs": [
        {
          "output_type": "execute_result",
          "data": {
            "text/plain": [
              "-1505364"
            ]
          },
          "metadata": {},
          "execution_count": 18
        }
      ]
    },
    {
      "cell_type": "code",
      "metadata": {
        "id": "6a-GOP4BLMOB",
        "colab": {
          "base_uri": "https://localhost:8080/"
        },
        "outputId": "5e362ad1-9d53-4435-f473-f1525911bf1c"
      },
      "source": [
        "coef = round(model_lr.coef_[0])\n",
        "coef"
      ],
      "execution_count": null,
      "outputs": [
        {
          "output_type": "execute_result",
          "data": {
            "text/plain": [
              "3076"
            ]
          },
          "metadata": {},
          "execution_count": 23
        }
      ]
    },
    {
      "cell_type": "code",
      "source": [
        "#final equation\n",
        "print(f'SALE_PRICE = {intercept} + {coef} * GROSS_SQUARE_FEET')"
      ],
      "metadata": {
        "colab": {
          "base_uri": "https://localhost:8080/"
        },
        "id": "IsMnXpddjpYL",
        "outputId": "1755a85d-a995-4493-ff73-08357e76f50b"
      },
      "execution_count": null,
      "outputs": [
        {
          "output_type": "stream",
          "name": "stdout",
          "text": [
            "SALE_PRICE = -1505364 + 3076 * GROSS_SQUARE_FEET\n"
          ]
        }
      ]
    },
    {
      "cell_type": "code",
      "source": [],
      "metadata": {
        "id": "lIDgYK9Uk56x"
      },
      "execution_count": null,
      "outputs": []
    }
  ]
}